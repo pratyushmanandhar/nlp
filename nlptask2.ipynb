{
 "cells": [
  {
   "cell_type": "code",
   "execution_count": 1,
   "id": "1c86a0b2",
   "metadata": {},
   "outputs": [],
   "source": [
    "import nltk"
   ]
  },
  {
   "cell_type": "code",
   "execution_count": 2,
   "id": "b9c7d4ac",
   "metadata": {},
   "outputs": [],
   "source": [
    "from nltk.corpus import brown"
   ]
  },
  {
   "cell_type": "code",
   "execution_count": 3,
   "id": "5956c307",
   "metadata": {},
   "outputs": [
    {
     "data": {
      "text/plain": [
       "FreqDist({'the': 3, 'his': 3, 'in': 3, 'not': 2, 'of': 2, 'and': 2, 'which': 2, 'This': 1, 'does': 1, 'prevent': 1, ...})"
      ]
     },
     "execution_count": 3,
     "metadata": {},
     "output_type": "execute_result"
    }
   ],
   "source": [
    "text1 = \"This does not prevent him from being the outstanding figure of his age. Seneca in those days unsurpassed both in the field of letters and in power (power which afterwards grew too great and recoiled upon his own head), was the last man to be impressed by things which did not count,’ said his contemporary Pliny.\"\n",
    "fd = nltk.FreqDist(text1.split())\n",
    "fd"
   ]
  },
  {
   "cell_type": "code",
   "execution_count": 4,
   "id": "51573a94",
   "metadata": {},
   "outputs": [
    {
     "data": {
      "text/plain": [
       "FreqDist({'This': 1, 'does': 1, 'from': 1, 'age.': 1, 'days': 1, 'both': 1, 'grew': 1, 'upon': 1, 'last': 1, 'said': 1})"
      ]
     },
     "execution_count": 4,
     "metadata": {},
     "output_type": "execute_result"
    }
   ],
   "source": [
    "from nltk.probability import ConditionalFreqDist\n",
    "cfd=ConditionalFreqDist((len(word),word) for word in text1.split())\n",
    "cfd[4]"
   ]
  },
  {
   "cell_type": "markdown",
   "id": "17ecb5cd",
   "metadata": {},
   "source": [
    "# hw- to determine frequency distribution and conditional frequency distribution of any one of the presidential inaugural addresses."
   ]
  },
  {
   "cell_type": "code",
   "execution_count": 10,
   "id": "a923cfda",
   "metadata": {},
   "outputs": [],
   "source": [
    "from nltk.corpus import inaugural\n",
    "cfd = ConditionalFreqDist((len(word), word) for word in inaugural.words(fileids = '1861-lincoln.txt'))"
   ]
  },
  {
   "cell_type": "code",
   "execution_count": 11,
   "id": "7406ff8e",
   "metadata": {},
   "outputs": [
    {
     "data": {
      "text/plain": [
       "<ConditionalFreqDist with 16 conditions>"
      ]
     },
     "execution_count": 11,
     "metadata": {},
     "output_type": "execute_result"
    }
   ],
   "source": [
    "cfd"
   ]
  },
  {
   "cell_type": "code",
   "execution_count": 12,
   "id": "d02702b4",
   "metadata": {},
   "outputs": [
    {
     "data": {
      "text/plain": [
       "FreqDist({'that': 57, 'will': 25, 'this': 23, 'with': 20, 'have': 20, 'from': 16, 'such': 15, 'upon': 15, 'them': 13, 'than': 13, ...})"
      ]
     },
     "execution_count": 12,
     "metadata": {},
     "output_type": "execute_result"
    }
   ],
   "source": [
    "cfd[4]"
   ]
  },
  {
   "cell_type": "code",
   "execution_count": 13,
   "id": "3c9498fb",
   "metadata": {},
   "outputs": [
    {
     "data": {
      "text/plain": [
       "FreqDist({'the': 240, ',': 195, 'of': 146, 'to': 132, '.': 110, 'and': 101, 'be': 76, 'in': 72, 'that': 57, 'a': 53, ...})"
      ]
     },
     "execution_count": 13,
     "metadata": {},
     "output_type": "execute_result"
    }
   ],
   "source": [
    "word = nltk.FreqDist(inaugural.words(fileids = '1861-lincoln.txt'))\n",
    "word"
   ]
  },
  {
   "cell_type": "markdown",
   "id": "495c9cf6",
   "metadata": {},
   "source": [
    "# jieba "
   ]
  },
  {
   "cell_type": "code",
   "execution_count": 16,
   "id": "a2cb3a75",
   "metadata": {
    "scrolled": true
   },
   "outputs": [
    {
     "name": "stderr",
     "output_type": "stream",
     "text": [
      "Building prefix dict from the default dictionary ...\n",
      "Dumping model to file cache C:\\Users\\User\\AppData\\Local\\Temp\\jieba.cache\n",
      "Loading model cost 0.699 seconds.\n",
      "Prefix dict has been built successfully.\n"
     ]
    },
    {
     "name": "stdout",
     "output_type": "stream",
     "text": [
      "意 兌 背 的 古 夏 用 下 經 ： 有 青 候 姊 收 「 愛 實 夕 荷 具 親 抄 化 免 功 」 學 只 夏 司 斗 ！ 姊 讀 面 汁 年 幾 英 土 成 男 寺 服 王 果 呢 三 、 尾身 圓 穴 連 完 抄 打 再 ； 扒 丟 馬 穴 馬 公 菜\n"
     ]
    }
   ],
   "source": [
    "import jieba \n",
    "seg = jieba.cut(\"意兌背的古夏用下經：有青候姊收「愛實夕荷具親抄化免功」學只夏司斗！姊讀面汁年幾英土成男寺服王果呢三、尾身圓穴連完抄打再；扒丟馬穴馬公菜\", cut_all = True)\n",
    "print(\" \".join(seg))"
   ]
  },
  {
   "cell_type": "code",
   "execution_count": 17,
   "id": "f1333595",
   "metadata": {},
   "outputs": [
    {
     "name": "stdout",
     "output_type": "stream",
     "text": [
      "['Become', 'an', 'expert', 'in', 'NLP']\n",
      "['Stoicism', ',', 'for', 'centuries', 'the', 'most', 'influential', 'philosophy', 'in', 'the', 'Graeco-Roman', 'world', ',', 'had', 'a', 'long', 'history', 'before', 'Seneca', '.']\n",
      "[('Stoicism', 'NN'), (',', ','), ('for', 'IN'), ('centuries', 'NNS'), ('the', 'DT'), ('most', 'RBS'), ('influential', 'JJ'), ('philosophy', 'NN'), ('in', 'IN'), ('the', 'DT'), ('Graeco-Roman', 'NNP'), ('world', 'NN'), (',', ','), ('had', 'VBD'), ('a', 'DT'), ('long', 'JJ'), ('history', 'NN'), ('before', 'IN'), ('Seneca', 'NNP'), ('.', '.')]\n",
      "['Founded', 'by', 'Zeno', '(', 'born', 'of', 'Phoenician', 'descent', 'in', 'Cyprus', 'c.', '336/5', 'B.C', '.', ')']\n",
      "[('Founded', 'VBN'), ('by', 'IN'), ('Zeno', 'NNP'), ('(', '('), ('born', 'VBN'), ('of', 'IN'), ('Phoenician', 'JJ'), ('descent', 'NN'), ('in', 'IN'), ('Cyprus', 'NNP'), ('c.', 'VBP'), ('336/5', 'CD'), ('B.C', 'NNP'), ('.', '.'), (')', ')')]\n",
      "['who', 'had', 'taught', 'or', 'lectured', 'in', 'a', 'well-known', 'stoa', '(', 'a', 'colonnade', 'or', 'porch', ')', '–', 'hence', 'the', 'name', '–', 'in', 'Athens', ',', 'it', 'had', 'been', 'developed', 'and', 'modified', 'by', 'a', 'succession', 'of', 'thinkers', 'whose', 'opinions', 'on', 'various', 'logical', ',', 'ethical', 'or', 'cosmological', 'questions', 'showed', 'some', 'fair', 'divergencies', '.']\n",
      "[('who', 'WP'), ('had', 'VBD'), ('taught', 'VBN'), ('or', 'CC'), ('lectured', 'VBN'), ('in', 'IN'), ('a', 'DT'), ('well-known', 'JJ'), ('stoa', 'NN'), ('(', '('), ('a', 'DT'), ('colonnade', 'NN'), ('or', 'CC'), ('porch', 'NN'), (')', ')'), ('–', 'VBZ'), ('hence', 'NN'), ('the', 'DT'), ('name', 'NN'), ('–', 'NNP'), ('in', 'IN'), ('Athens', 'NNP'), (',', ','), ('it', 'PRP'), ('had', 'VBD'), ('been', 'VBN'), ('developed', 'VBN'), ('and', 'CC'), ('modified', 'VBN'), ('by', 'IN'), ('a', 'DT'), ('succession', 'NN'), ('of', 'IN'), ('thinkers', 'NNS'), ('whose', 'WP$'), ('opinions', 'NNS'), ('on', 'IN'), ('various', 'JJ'), ('logical', 'JJ'), (',', ','), ('ethical', 'JJ'), ('or', 'CC'), ('cosmological', 'JJ'), ('questions', 'NNS'), ('showed', 'VBD'), ('some', 'DT'), ('fair', 'JJ'), ('divergencies', 'NNS'), ('.', '.')]\n",
      "['As', 'a', 'moral', 'creed', ',', 'however', ',', 'it', 'was', 'based', 'throughout', 'on', 'the', 'following', 'framework', 'of', 'belief', '.']\n",
      "[('As', 'IN'), ('a', 'DT'), ('moral', 'JJ'), ('creed', 'NN'), (',', ','), ('however', 'RB'), (',', ','), ('it', 'PRP'), ('was', 'VBD'), ('based', 'VBN'), ('throughout', 'IN'), ('on', 'IN'), ('the', 'DT'), ('following', 'JJ'), ('framework', 'NN'), ('of', 'IN'), ('belief', 'NN'), ('.', '.')]\n"
     ]
    }
   ],
   "source": [
    "import nltk\n",
    "sent = \"Become an expert in NLP\"\n",
    "words = nltk.word_tokenize(sent)\n",
    "print(words)\n",
    "texts = [\"\"\"Stoicism, for centuries the most influential philosophy in the Graeco-Roman\n",
    "world, had a long history before Seneca. Founded by Zeno (born of Phoenician\n",
    "descent in Cyprus c. 336/5 B.C.) who had taught or lectured in a well-known\n",
    "stoa (a colonnade or porch) – hence the name – in Athens, it had been developed\n",
    "and modified by a succession of thinkers whose opinions on various logical,\n",
    "ethical or cosmological questions showed some fair divergencies. As a moral\n",
    "creed, however, it was based throughout on the following framework of belief.\n",
    "\"\"\"]\n",
    "\n",
    "for text in texts:\n",
    "    sentences = nltk.sent_tokenize(text)\n",
    "    for sentence in sentences:\n",
    "        words = nltk.word_tokenize(sentence)\n",
    "        print(words)\n",
    "        tagged = nltk.pos_tag(words)\n",
    "        print(tagged)"
   ]
  }
 ],
 "metadata": {
  "kernelspec": {
   "display_name": "Python 3 (ipykernel)",
   "language": "python",
   "name": "python3"
  },
  "language_info": {
   "codemirror_mode": {
    "name": "ipython",
    "version": 3
   },
   "file_extension": ".py",
   "mimetype": "text/x-python",
   "name": "python",
   "nbconvert_exporter": "python",
   "pygments_lexer": "ipython3",
   "version": "3.9.13"
  }
 },
 "nbformat": 4,
 "nbformat_minor": 5
}
